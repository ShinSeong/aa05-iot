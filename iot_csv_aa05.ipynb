{
  "nbformat": 4,
  "nbformat_minor": 0,
  "metadata": {
    "colab": {
      "name": "iot_csv_aa05",
      "version": "0.3.2",
      "provenance": [],
      "collapsed_sections": [],
      "toc_visible": true,
      "include_colab_link": true
    },
    "kernelspec": {
      "display_name": "Python 3",
      "language": "python",
      "name": "python3"
    }
  },
  "cells": [
    {
      "cell_type": "markdown",
      "metadata": {
        "id": "view-in-github",
        "colab_type": "text"
      },
      "source": [
        "<a href=\"https://colab.research.google.com/github/ShinSeong/aa05-iot/blob/master/iot_csv_aa05.ipynb\" target=\"_parent\"><img src=\"https://colab.research.google.com/assets/colab-badge.svg\" alt=\"Open In Colab\"/></a>"
      ]
    },
    {
      "metadata": {
        "id": "4RyKlSBw1DjY",
        "colab_type": "text"
      },
      "cell_type": "markdown",
      "source": [
        "### Pandas: Loading the remote csv file\n",
        "\n",
        "> [Pandas: Tutorial-reas_csv()](https://www.marsja.se/pandas-read-csv-tutorial-to-csv/amp/)"
      ]
    },
    {
      "metadata": {
        "id": "y8KjEOPg1Dja",
        "colab_type": "code",
        "colab": {}
      },
      "cell_type": "code",
      "source": [
        "import pandas as pd"
      ],
      "execution_count": 0,
      "outputs": []
    },
    {
      "metadata": {
        "id": "N4sYnKbu1Djg",
        "colab_type": "code",
        "colab": {}
      },
      "cell_type": "code",
      "source": [
        "# url=\"http://chaos.inje.ac.kr:3030/data/ppg5k.csv\"  # CORS powered express server!\n",
        "c=pd.read_csv('AA05_s1000.csv', index_col='date')"
      ],
      "execution_count": 0,
      "outputs": []
    },
    {
      "metadata": {
        "id": "MfB0c8tr1Djj",
        "colab_type": "code",
        "outputId": "d74c63cf-5242-44e8-a544-d9ab774c0348",
        "colab": {
          "base_uri": "https://localhost:8080/",
          "height": 35
        }
      },
      "cell_type": "code",
      "source": [
        "c.shape"
      ],
      "execution_count": 3,
      "outputs": [
        {
          "output_type": "execute_result",
          "data": {
            "text/plain": [
              "(1000, 3)"
            ]
          },
          "metadata": {
            "tags": []
          },
          "execution_count": 3
        }
      ]
    },
    {
      "metadata": {
        "id": "rCMGqVrk1Djr",
        "colab_type": "code",
        "outputId": "c40a89a3-72ea-4928-9534-8ce95a73de64",
        "colab": {
          "base_uri": "https://localhost:8080/",
          "height": 235
        }
      },
      "cell_type": "code",
      "source": [
        "c.head()"
      ],
      "execution_count": 5,
      "outputs": [
        {
          "output_type": "execute_result",
          "data": {
            "text/html": [
              "<div>\n",
              "<style scoped>\n",
              "    .dataframe tbody tr th:only-of-type {\n",
              "        vertical-align: middle;\n",
              "    }\n",
              "\n",
              "    .dataframe tbody tr th {\n",
              "        vertical-align: top;\n",
              "    }\n",
              "\n",
              "    .dataframe thead th {\n",
              "        text-align: right;\n",
              "    }\n",
              "</style>\n",
              "<table border=\"1\" class=\"dataframe\">\n",
              "  <thead>\n",
              "    <tr style=\"text-align: right;\">\n",
              "      <th></th>\n",
              "      <th>temperature</th>\n",
              "      <th>humidity</th>\n",
              "      <th>luminosity</th>\n",
              "    </tr>\n",
              "    <tr>\n",
              "      <th>date</th>\n",
              "      <th></th>\n",
              "      <th></th>\n",
              "      <th></th>\n",
              "    </tr>\n",
              "  </thead>\n",
              "  <tbody>\n",
              "    <tr>\n",
              "      <th>2018-11-27 18:39:20.124</th>\n",
              "      <td>21.9</td>\n",
              "      <td>31.8</td>\n",
              "      <td>49</td>\n",
              "    </tr>\n",
              "    <tr>\n",
              "      <th>2018-11-27 18:39:17.846</th>\n",
              "      <td>21.9</td>\n",
              "      <td>31.9</td>\n",
              "      <td>49</td>\n",
              "    </tr>\n",
              "    <tr>\n",
              "      <th>2018-11-27 18:39:15.574</th>\n",
              "      <td>21.9</td>\n",
              "      <td>32.0</td>\n",
              "      <td>50</td>\n",
              "    </tr>\n",
              "    <tr>\n",
              "      <th>2018-11-27 18:39:13.297</th>\n",
              "      <td>21.9</td>\n",
              "      <td>32.0</td>\n",
              "      <td>50</td>\n",
              "    </tr>\n",
              "    <tr>\n",
              "      <th>2018-11-27 18:39:11.023</th>\n",
              "      <td>21.9</td>\n",
              "      <td>32.1</td>\n",
              "      <td>49</td>\n",
              "    </tr>\n",
              "  </tbody>\n",
              "</table>\n",
              "</div>"
            ],
            "text/plain": [
              "                         temperature  humidity  luminosity\n",
              "date                                                      \n",
              "2018-11-27 18:39:20.124         21.9      31.8          49\n",
              "2018-11-27 18:39:17.846         21.9      31.9          49\n",
              "2018-11-27 18:39:15.574         21.9      32.0          50\n",
              "2018-11-27 18:39:13.297         21.9      32.0          50\n",
              "2018-11-27 18:39:11.023         21.9      32.1          49"
            ]
          },
          "metadata": {
            "tags": []
          },
          "execution_count": 5
        }
      ]
    },
    {
      "metadata": {
        "id": "za-8tQVErwRA",
        "colab_type": "code",
        "outputId": "a1bf403d-56d2-43c1-acfd-fe41c94435ba",
        "colab": {
          "base_uri": "https://localhost:8080/",
          "height": 235
        }
      },
      "cell_type": "code",
      "source": [
        "c.tail()"
      ],
      "execution_count": 6,
      "outputs": [
        {
          "output_type": "execute_result",
          "data": {
            "text/html": [
              "<div>\n",
              "<style scoped>\n",
              "    .dataframe tbody tr th:only-of-type {\n",
              "        vertical-align: middle;\n",
              "    }\n",
              "\n",
              "    .dataframe tbody tr th {\n",
              "        vertical-align: top;\n",
              "    }\n",
              "\n",
              "    .dataframe thead th {\n",
              "        text-align: right;\n",
              "    }\n",
              "</style>\n",
              "<table border=\"1\" class=\"dataframe\">\n",
              "  <thead>\n",
              "    <tr style=\"text-align: right;\">\n",
              "      <th></th>\n",
              "      <th>temperature</th>\n",
              "      <th>humidity</th>\n",
              "      <th>luminosity</th>\n",
              "    </tr>\n",
              "    <tr>\n",
              "      <th>date</th>\n",
              "      <th></th>\n",
              "      <th></th>\n",
              "      <th></th>\n",
              "    </tr>\n",
              "  </thead>\n",
              "  <tbody>\n",
              "    <tr>\n",
              "      <th>2018-11-27 18:01:35.656</th>\n",
              "      <td>21.3</td>\n",
              "      <td>31.5</td>\n",
              "      <td>53</td>\n",
              "    </tr>\n",
              "    <tr>\n",
              "      <th>2018-11-27 18:01:33.382</th>\n",
              "      <td>21.3</td>\n",
              "      <td>31.4</td>\n",
              "      <td>58</td>\n",
              "    </tr>\n",
              "    <tr>\n",
              "      <th>2018-11-27 18:01:31.105</th>\n",
              "      <td>21.3</td>\n",
              "      <td>31.4</td>\n",
              "      <td>57</td>\n",
              "    </tr>\n",
              "    <tr>\n",
              "      <th>2018-11-27 18:01:28.832</th>\n",
              "      <td>21.3</td>\n",
              "      <td>31.4</td>\n",
              "      <td>58</td>\n",
              "    </tr>\n",
              "    <tr>\n",
              "      <th>2018-11-27 18:01:26.554</th>\n",
              "      <td>21.3</td>\n",
              "      <td>31.4</td>\n",
              "      <td>58</td>\n",
              "    </tr>\n",
              "  </tbody>\n",
              "</table>\n",
              "</div>"
            ],
            "text/plain": [
              "                         temperature  humidity  luminosity\n",
              "date                                                      \n",
              "2018-11-27 18:01:35.656         21.3      31.5          53\n",
              "2018-11-27 18:01:33.382         21.3      31.4          58\n",
              "2018-11-27 18:01:31.105         21.3      31.4          57\n",
              "2018-11-27 18:01:28.832         21.3      31.4          58\n",
              "2018-11-27 18:01:26.554         21.3      31.4          58"
            ]
          },
          "metadata": {
            "tags": []
          },
          "execution_count": 6
        }
      ]
    },
    {
      "metadata": {
        "id": "m8dQtyJa1Djw",
        "colab_type": "code",
        "outputId": "c5e37759-fdc7-4fb2-a2c9-ef6dc909661e",
        "colab": {
          "base_uri": "https://localhost:8080/",
          "height": 125
        }
      },
      "cell_type": "code",
      "source": [
        "c.info()"
      ],
      "execution_count": 0,
      "outputs": [
        {
          "output_type": "stream",
          "text": [
            "<class 'pandas.core.frame.DataFrame'>\n",
            "Index: 5000 entries, 2015-07-24 12:43:00.7 to 2015-07-24 12:47:12.3\n",
            "Data columns (total 1 columns):\n",
            "PPG    5000 non-null int64\n",
            "dtypes: int64(1)\n",
            "memory usage: 78.1+ KB\n"
          ],
          "name": "stdout"
        }
      ]
    },
    {
      "metadata": {
        "id": "m3C8fjK_1Dj2",
        "colab_type": "code",
        "outputId": "f692bc4b-1289-4036-f7b7-64cb29aa1049",
        "colab": {
          "base_uri": "https://localhost:8080/",
          "height": 235
        }
      },
      "cell_type": "code",
      "source": [
        "# another method to read csv \n",
        "c2=pd.read_csv(url, index_col=0)\n",
        "c2.head()"
      ],
      "execution_count": 0,
      "outputs": [
        {
          "output_type": "execute_result",
          "data": {
            "text/html": [
              "<div>\n",
              "<style scoped>\n",
              "    .dataframe tbody tr th:only-of-type {\n",
              "        vertical-align: middle;\n",
              "    }\n",
              "\n",
              "    .dataframe tbody tr th {\n",
              "        vertical-align: top;\n",
              "    }\n",
              "\n",
              "    .dataframe thead th {\n",
              "        text-align: right;\n",
              "    }\n",
              "</style>\n",
              "<table border=\"1\" class=\"dataframe\">\n",
              "  <thead>\n",
              "    <tr style=\"text-align: right;\">\n",
              "      <th></th>\n",
              "      <th>PPG</th>\n",
              "    </tr>\n",
              "    <tr>\n",
              "      <th>Time</th>\n",
              "      <th></th>\n",
              "    </tr>\n",
              "  </thead>\n",
              "  <tbody>\n",
              "    <tr>\n",
              "      <th>2015-07-24 12:43:00.7</th>\n",
              "      <td>444</td>\n",
              "    </tr>\n",
              "    <tr>\n",
              "      <th>2015-07-24 12:43:00.8</th>\n",
              "      <td>425</td>\n",
              "    </tr>\n",
              "    <tr>\n",
              "      <th>2015-07-24 12:43:00.8</th>\n",
              "      <td>423</td>\n",
              "    </tr>\n",
              "    <tr>\n",
              "      <th>2015-07-24 12:43:00.9</th>\n",
              "      <td>415</td>\n",
              "    </tr>\n",
              "    <tr>\n",
              "      <th>2015-07-24 12:43:00.9</th>\n",
              "      <td>406</td>\n",
              "    </tr>\n",
              "  </tbody>\n",
              "</table>\n",
              "</div>"
            ],
            "text/plain": [
              "                       PPG\n",
              "Time                      \n",
              "2015-07-24 12:43:00.7  444\n",
              "2015-07-24 12:43:00.8  425\n",
              "2015-07-24 12:43:00.8  423\n",
              "2015-07-24 12:43:00.9  415\n",
              "2015-07-24 12:43:00.9  406"
            ]
          },
          "metadata": {
            "tags": []
          },
          "execution_count": 7
        }
      ]
    },
    {
      "metadata": {
        "id": "NbTuxzs81Dj7",
        "colab_type": "code",
        "colab": {}
      },
      "cell_type": "code",
      "source": [
        "# import matplotlib.pyplot as plt\n",
        "%matplotlib inline"
      ],
      "execution_count": 0,
      "outputs": []
    },
    {
      "metadata": {
        "id": "MyKp3iqT1Dj_",
        "colab_type": "code",
        "outputId": "59d97972-f870-4c65-f396-61a6ecf1c347",
        "colab": {
          "base_uri": "https://localhost:8080/",
          "height": 357
        }
      },
      "cell_type": "code",
      "source": [
        "c.plot(figsize=(12,5), title=\"PPG\")"
      ],
      "execution_count": 10,
      "outputs": [
        {
          "output_type": "execute_result",
          "data": {
            "text/plain": [
              "<matplotlib.axes._subplots.AxesSubplot at 0x7f085f99ab00>"
            ]
          },
          "metadata": {
            "tags": []
          },
          "execution_count": 10
        },
        {
          "output_type": "display_data",
          "data": {
            "image/png": "[encoded data removed]",
            "text/plain": [
              "<matplotlib.figure.Figure at 0x7f085d0ea1d0>"
            ]
          },
          "metadata": {
            "tags": []
          }
        }
      ]
    },
    {
      "metadata": {
        "id": "4q83kwzv1DkF",
        "colab_type": "code",
        "outputId": "5bffb752-a08d-44dc-96f4-6caad26354b5",
        "colab": {
          "base_uri": "https://localhost:8080/",
          "height": 357
        }
      },
      "cell_type": "code",
      "source": [
        "c[:1000].plot(figsize=(12,5),title=\"PPG\")"
      ],
      "execution_count": 11,
      "outputs": [
        {
          "output_type": "execute_result",
          "data": {
            "text/plain": [
              "<matplotlib.axes._subplots.AxesSubplot at 0x7f085d0f9550>"
            ]
          },
          "metadata": {
            "tags": []
          },
          "execution_count": 11
        },
        {
          "output_type": "display_data",
          "data": {
            "image/png": "[encoded data removed]",
            "text/plain": [
              "<matplotlib.figure.Figure at 0x7f085d07d5c0>"
            ]
          },
          "metadata": {
            "tags": []
          }
        }
      ]
    },
    {
      "metadata": {
        "id": "0Mjp7Izv1DkK",
        "colab_type": "text"
      },
      "cell_type": "markdown",
      "source": [
        "### iot data\n",
        "> Sensor data from Arduino with CdS and DHT22\n",
        "\n",
        "- temperature\n",
        "- humidity\n",
        "- luminosity"
      ]
    },
    {
      "metadata": {
        "id": "JocMoJ3q1DkL",
        "colab_type": "code",
        "colab": {}
      },
      "cell_type": "code",
      "source": [
        "url=\"http://chaos.inje.ac.kr:3030/data/iot_chaos.csv\"\n",
        "iot=pd.read_csv('AA05_s1000.csv', index_col='date')"
      ],
      "execution_count": 0,
      "outputs": []
    },
    {
      "metadata": {
        "id": "d-M3o1hI1DkQ",
        "colab_type": "code",
        "outputId": "01abb40c-9f47-454a-e096-81b4a6908324",
        "colab": {
          "base_uri": "https://localhost:8080/",
          "height": 35
        }
      },
      "cell_type": "code",
      "source": [
        "iot.shape"
      ],
      "execution_count": 45,
      "outputs": [
        {
          "output_type": "execute_result",
          "data": {
            "text/plain": [
              "(1000, 3)"
            ]
          },
          "metadata": {
            "tags": []
          },
          "execution_count": 45
        }
      ]
    },
    {
      "metadata": {
        "id": "b5TKa9bX1DkV",
        "colab_type": "code",
        "outputId": "928ae2c1-392e-4792-af70-28440f3e2653",
        "colab": {
          "base_uri": "https://localhost:8080/",
          "height": 235
        }
      },
      "cell_type": "code",
      "source": [
        "iot.head()"
      ],
      "execution_count": 46,
      "outputs": [
        {
          "output_type": "execute_result",
          "data": {
            "text/html": [
              "<div>\n",
              "<style scoped>\n",
              "    .dataframe tbody tr th:only-of-type {\n",
              "        vertical-align: middle;\n",
              "    }\n",
              "\n",
              "    .dataframe tbody tr th {\n",
              "        vertical-align: top;\n",
              "    }\n",
              "\n",
              "    .dataframe thead th {\n",
              "        text-align: right;\n",
              "    }\n",
              "</style>\n",
              "<table border=\"1\" class=\"dataframe\">\n",
              "  <thead>\n",
              "    <tr style=\"text-align: right;\">\n",
              "      <th></th>\n",
              "      <th>temperature</th>\n",
              "      <th>humidity</th>\n",
              "      <th>luminosity</th>\n",
              "    </tr>\n",
              "    <tr>\n",
              "      <th>date</th>\n",
              "      <th></th>\n",
              "      <th></th>\n",
              "      <th></th>\n",
              "    </tr>\n",
              "  </thead>\n",
              "  <tbody>\n",
              "    <tr>\n",
              "      <th>2018-11-27 18:39:20.124</th>\n",
              "      <td>21.9</td>\n",
              "      <td>31.8</td>\n",
              "      <td>49</td>\n",
              "    </tr>\n",
              "    <tr>\n",
              "      <th>2018-11-27 18:39:17.846</th>\n",
              "      <td>21.9</td>\n",
              "      <td>31.9</td>\n",
              "      <td>49</td>\n",
              "    </tr>\n",
              "    <tr>\n",
              "      <th>2018-11-27 18:39:15.574</th>\n",
              "      <td>21.9</td>\n",
              "      <td>32.0</td>\n",
              "      <td>50</td>\n",
              "    </tr>\n",
              "    <tr>\n",
              "      <th>2018-11-27 18:39:13.297</th>\n",
              "      <td>21.9</td>\n",
              "      <td>32.0</td>\n",
              "      <td>50</td>\n",
              "    </tr>\n",
              "    <tr>\n",
              "      <th>2018-11-27 18:39:11.023</th>\n",
              "      <td>21.9</td>\n",
              "      <td>32.1</td>\n",
              "      <td>49</td>\n",
              "    </tr>\n",
              "  </tbody>\n",
              "</table>\n",
              "</div>"
            ],
            "text/plain": [
              "                         temperature  humidity  luminosity\n",
              "date                                                      \n",
              "2018-11-27 18:39:20.124         21.9      31.8          49\n",
              "2018-11-27 18:39:17.846         21.9      31.9          49\n",
              "2018-11-27 18:39:15.574         21.9      32.0          50\n",
              "2018-11-27 18:39:13.297         21.9      32.0          50\n",
              "2018-11-27 18:39:11.023         21.9      32.1          49"
            ]
          },
          "metadata": {
            "tags": []
          },
          "execution_count": 46
        }
      ]
    },
    {
      "metadata": {
        "id": "CjyUNVTQ1Dkb",
        "colab_type": "code",
        "outputId": "c4990e82-a5dd-4b66-92b3-3f7c7d9dd706",
        "colab": {
          "base_uri": "https://localhost:8080/",
          "height": 235
        }
      },
      "cell_type": "code",
      "source": [
        "iot.tail()"
      ],
      "execution_count": 47,
      "outputs": [
        {
          "output_type": "execute_result",
          "data": {
            "text/html": [
              "<div>\n",
              "<style scoped>\n",
              "    .dataframe tbody tr th:only-of-type {\n",
              "        vertical-align: middle;\n",
              "    }\n",
              "\n",
              "    .dataframe tbody tr th {\n",
              "        vertical-align: top;\n",
              "    }\n",
              "\n",
              "    .dataframe thead th {\n",
              "        text-align: right;\n",
              "    }\n",
              "</style>\n",
              "<table border=\"1\" class=\"dataframe\">\n",
              "  <thead>\n",
              "    <tr style=\"text-align: right;\">\n",
              "      <th></th>\n",
              "      <th>temperature</th>\n",
              "      <th>humidity</th>\n",
              "      <th>luminosity</th>\n",
              "    </tr>\n",
              "    <tr>\n",
              "      <th>date</th>\n",
              "      <th></th>\n",
              "      <th></th>\n",
              "      <th></th>\n",
              "    </tr>\n",
              "  </thead>\n",
              "  <tbody>\n",
              "    <tr>\n",
              "      <th>2018-11-27 18:01:35.656</th>\n",
              "      <td>21.3</td>\n",
              "      <td>31.5</td>\n",
              "      <td>53</td>\n",
              "    </tr>\n",
              "    <tr>\n",
              "      <th>2018-11-27 18:01:33.382</th>\n",
              "      <td>21.3</td>\n",
              "      <td>31.4</td>\n",
              "      <td>58</td>\n",
              "    </tr>\n",
              "    <tr>\n",
              "      <th>2018-11-27 18:01:31.105</th>\n",
              "      <td>21.3</td>\n",
              "      <td>31.4</td>\n",
              "      <td>57</td>\n",
              "    </tr>\n",
              "    <tr>\n",
              "      <th>2018-11-27 18:01:28.832</th>\n",
              "      <td>21.3</td>\n",
              "      <td>31.4</td>\n",
              "      <td>58</td>\n",
              "    </tr>\n",
              "    <tr>\n",
              "      <th>2018-11-27 18:01:26.554</th>\n",
              "      <td>21.3</td>\n",
              "      <td>31.4</td>\n",
              "      <td>58</td>\n",
              "    </tr>\n",
              "  </tbody>\n",
              "</table>\n",
              "</div>"
            ],
            "text/plain": [
              "                         temperature  humidity  luminosity\n",
              "date                                                      \n",
              "2018-11-27 18:01:35.656         21.3      31.5          53\n",
              "2018-11-27 18:01:33.382         21.3      31.4          58\n",
              "2018-11-27 18:01:31.105         21.3      31.4          57\n",
              "2018-11-27 18:01:28.832         21.3      31.4          58\n",
              "2018-11-27 18:01:26.554         21.3      31.4          58"
            ]
          },
          "metadata": {
            "tags": []
          },
          "execution_count": 47
        }
      ]
    },
    {
      "metadata": {
        "id": "o66Mb3tp1Dki",
        "colab_type": "code",
        "outputId": "ab0ec7a1-acd5-44ce-a164-9367fbbb9855",
        "colab": {
          "base_uri": "https://localhost:8080/",
          "height": 161
        }
      },
      "cell_type": "code",
      "source": [
        "iot.info()"
      ],
      "execution_count": 48,
      "outputs": [
        {
          "output_type": "stream",
          "text": [
            "<class 'pandas.core.frame.DataFrame'>\n",
            "Index: 1000 entries, 2018-11-27 18:39:20.124 to 2018-11-27 18:01:26.554\n",
            "Data columns (total 3 columns):\n",
            "temperature    1000 non-null float64\n",
            "humidity       1000 non-null float64\n",
            "luminosity     1000 non-null int64\n",
            "dtypes: float64(2), int64(1)\n",
            "memory usage: 31.2+ KB\n"
          ],
          "name": "stdout"
        }
      ]
    },
    {
      "metadata": {
        "id": "DrIb6pwx1Dkn",
        "colab_type": "text"
      },
      "cell_type": "markdown",
      "source": [
        "### Sort index by date"
      ]
    },
    {
      "metadata": {
        "id": "v3ujbMYb1Dkp",
        "colab_type": "code",
        "colab": {}
      },
      "cell_type": "code",
      "source": [
        "iot_s = iot.sort_index()"
      ],
      "execution_count": 0,
      "outputs": []
    },
    {
      "metadata": {
        "id": "OoKNtme61Dkt",
        "colab_type": "code",
        "outputId": "14420767-426c-482e-8522-8ec1d7c33b7d",
        "colab": {
          "base_uri": "https://localhost:8080/",
          "height": 235
        }
      },
      "cell_type": "code",
      "source": [
        "iot_s.head()"
      ],
      "execution_count": 50,
      "outputs": [
        {
          "output_type": "execute_result",
          "data": {
            "text/html": [
              "<div>\n",
              "<style scoped>\n",
              "    .dataframe tbody tr th:only-of-type {\n",
              "        vertical-align: middle;\n",
              "    }\n",
              "\n",
              "    .dataframe tbody tr th {\n",
              "        vertical-align: top;\n",
              "    }\n",
              "\n",
              "    .dataframe thead th {\n",
              "        text-align: right;\n",
              "    }\n",
              "</style>\n",
              "<table border=\"1\" class=\"dataframe\">\n",
              "  <thead>\n",
              "    <tr style=\"text-align: right;\">\n",
              "      <th></th>\n",
              "      <th>temperature</th>\n",
              "      <th>humidity</th>\n",
              "      <th>luminosity</th>\n",
              "    </tr>\n",
              "    <tr>\n",
              "      <th>date</th>\n",
              "      <th></th>\n",
              "      <th></th>\n",
              "      <th></th>\n",
              "    </tr>\n",
              "  </thead>\n",
              "  <tbody>\n",
              "    <tr>\n",
              "      <th>2018-11-27 18:01:26.554</th>\n",
              "      <td>21.3</td>\n",
              "      <td>31.4</td>\n",
              "      <td>58</td>\n",
              "    </tr>\n",
              "    <tr>\n",
              "      <th>2018-11-27 18:01:28.832</th>\n",
              "      <td>21.3</td>\n",
              "      <td>31.4</td>\n",
              "      <td>58</td>\n",
              "    </tr>\n",
              "    <tr>\n",
              "      <th>2018-11-27 18:01:31.105</th>\n",
              "      <td>21.3</td>\n",
              "      <td>31.4</td>\n",
              "      <td>57</td>\n",
              "    </tr>\n",
              "    <tr>\n",
              "      <th>2018-11-27 18:01:33.382</th>\n",
              "      <td>21.3</td>\n",
              "      <td>31.4</td>\n",
              "      <td>58</td>\n",
              "    </tr>\n",
              "    <tr>\n",
              "      <th>2018-11-27 18:01:35.656</th>\n",
              "      <td>21.3</td>\n",
              "      <td>31.5</td>\n",
              "      <td>53</td>\n",
              "    </tr>\n",
              "  </tbody>\n",
              "</table>\n",
              "</div>"
            ],
            "text/plain": [
              "                         temperature  humidity  luminosity\n",
              "date                                                      \n",
              "2018-11-27 18:01:26.554         21.3      31.4          58\n",
              "2018-11-27 18:01:28.832         21.3      31.4          58\n",
              "2018-11-27 18:01:31.105         21.3      31.4          57\n",
              "2018-11-27 18:01:33.382         21.3      31.4          58\n",
              "2018-11-27 18:01:35.656         21.3      31.5          53"
            ]
          },
          "metadata": {
            "tags": []
          },
          "execution_count": 50
        }
      ]
    },
    {
      "metadata": {
        "id": "ShvtLDxd1Dk0",
        "colab_type": "code",
        "outputId": "7f1cee1d-bbf0-499a-d7ef-7eaaa38e56cd",
        "colab": {
          "base_uri": "https://localhost:8080/",
          "height": 396
        }
      },
      "cell_type": "code",
      "source": [
        "iot_s.plot(figsize=(12,6))"
      ],
      "execution_count": 51,
      "outputs": [
        {
          "output_type": "execute_result",
          "data": {
            "text/plain": [
              "<matplotlib.axes._subplots.AxesSubplot at 0x7f0859c28eb8>"
            ]
          },
          "metadata": {
            "tags": []
          },
          "execution_count": 51
        },
        {
          "output_type": "display_data",
          "data": {
            "image/png": "[encoded data removed]",
            "text/plain": [
              "<matplotlib.figure.Figure at 0x7f0859c190f0>"
            ]
          },
          "metadata": {
            "tags": []
          }
        }
      ]
    },
    {
      "metadata": {
        "id": "NIrq0QfJ1Dk6",
        "colab_type": "code",
        "outputId": "72f3c9c6-f2ab-4b63-df3d-65962bfe8502",
        "colab": {
          "base_uri": "https://localhost:8080/",
          "height": 89
        }
      },
      "cell_type": "code",
      "source": [
        "iot_s.mean()"
      ],
      "execution_count": 52,
      "outputs": [
        {
          "output_type": "execute_result",
          "data": {
            "text/plain": [
              "temperature    21.6856\n",
              "humidity       31.9386\n",
              "luminosity     49.0660\n",
              "dtype: float64"
            ]
          },
          "metadata": {
            "tags": []
          },
          "execution_count": 52
        }
      ]
    },
    {
      "metadata": {
        "id": "T_NXwO3v1Dk-",
        "colab_type": "code",
        "outputId": "c7bc0f4b-d48c-40f1-e55c-203bb13fcf35",
        "colab": {
          "base_uri": "https://localhost:8080/",
          "height": 397
        }
      },
      "cell_type": "code",
      "source": [
        "iot_s.mean().plot.bar(figsize=(10,5), title=\"iot data: temp, humi, lumi\")"
      ],
      "execution_count": 53,
      "outputs": [
        {
          "output_type": "execute_result",
          "data": {
            "text/plain": [
              "<matplotlib.axes._subplots.AxesSubplot at 0x7f0859b5b668>"
            ]
          },
          "metadata": {
            "tags": []
          },
          "execution_count": 53
        },
        {
          "output_type": "display_data",
          "data": {
            "image/png": "[encoded data removed]",
            "text/plain": [
              "<matplotlib.figure.Figure at 0x7f0859c0e128>"
            ]
          },
          "metadata": {
            "tags": []
          }
        }
      ]
    },
    {
      "metadata": {
        "id": "TYGSDEGP1DlE",
        "colab_type": "text"
      },
      "cell_type": "markdown",
      "source": [
        "## Plot the change of sensor data over various time spans.\n",
        "\n",
        "- resample the data at different frequency\n",
        "- time span: 60 sec, 1 hour, 1 day, 1 week"
      ]
    },
    {
      "metadata": {
        "id": "dPgcIFOP1DlF",
        "colab_type": "code",
        "outputId": "c736d452-d4ad-4546-800c-6b3d578c4221",
        "colab": {
          "base_uri": "https://localhost:8080/",
          "height": 161
        }
      },
      "cell_type": "code",
      "source": [
        "iot_s.info()"
      ],
      "execution_count": 54,
      "outputs": [
        {
          "output_type": "stream",
          "text": [
            "<class 'pandas.core.frame.DataFrame'>\n",
            "Index: 1000 entries, 2018-11-27 18:01:26.554 to 2018-11-27 18:39:20.124\n",
            "Data columns (total 3 columns):\n",
            "temperature    1000 non-null float64\n",
            "humidity       1000 non-null float64\n",
            "luminosity     1000 non-null int64\n",
            "dtypes: float64(2), int64(1)\n",
            "memory usage: 31.2+ KB\n"
          ],
          "name": "stdout"
        }
      ]
    },
    {
      "metadata": {
        "id": "zr1RA5Ix1DlJ",
        "colab_type": "code",
        "outputId": "8040a611-0115-47b2-b254-48bc291773a5",
        "colab": {
          "base_uri": "https://localhost:8080/",
          "height": 35
        }
      },
      "cell_type": "code",
      "source": [
        "# type of index\n",
        "iot_s.index[0], type(iot_s.index[0])"
      ],
      "execution_count": 55,
      "outputs": [
        {
          "output_type": "execute_result",
          "data": {
            "text/plain": [
              "('2018-11-27 18:01:26.554', str)"
            ]
          },
          "metadata": {
            "tags": []
          },
          "execution_count": 55
        }
      ]
    },
    {
      "metadata": {
        "id": "2Tsb1Z9x1DlN",
        "colab_type": "code",
        "colab": {}
      },
      "cell_type": "code",
      "source": [
        "# Convert index to timestamp\n",
        "iot_s.index = pd.to_datetime(iot_s.index)"
      ],
      "execution_count": 0,
      "outputs": []
    },
    {
      "metadata": {
        "id": "9mAeysp31DlU",
        "colab_type": "code",
        "outputId": "94c36502-c718-4b79-d1b9-01340f0afbf8",
        "colab": {
          "base_uri": "https://localhost:8080/",
          "height": 161
        }
      },
      "cell_type": "code",
      "source": [
        "iot_s.info()"
      ],
      "execution_count": 57,
      "outputs": [
        {
          "output_type": "stream",
          "text": [
            "<class 'pandas.core.frame.DataFrame'>\n",
            "DatetimeIndex: 1000 entries, 2018-11-27 18:01:26.554000 to 2018-11-27 18:39:20.124000\n",
            "Data columns (total 3 columns):\n",
            "temperature    1000 non-null float64\n",
            "humidity       1000 non-null float64\n",
            "luminosity     1000 non-null int64\n",
            "dtypes: float64(2), int64(1)\n",
            "memory usage: 31.2 KB\n"
          ],
          "name": "stdout"
        }
      ]
    },
    {
      "metadata": {
        "id": "p0dZyoMy1DlY",
        "colab_type": "code",
        "outputId": "7803c3c4-48bb-4ca7-c63b-2dcf6a474b82",
        "colab": {
          "base_uri": "https://localhost:8080/",
          "height": 2000
        }
      },
      "cell_type": "code",
      "source": [
        "# Estimate the mean of iot_s for every hour\n",
        "iot_s.resample('2S').mean()  # mean per each hour"
      ],
      "execution_count": 58,
      "outputs": [
        {
          "output_type": "execute_result",
          "data": {
            "text/html": [
              "<div>\n",
              "<style scoped>\n",
              "    .dataframe tbody tr th:only-of-type {\n",
              "        vertical-align: middle;\n",
              "    }\n",
              "\n",
              "    .dataframe tbody tr th {\n",
              "        vertical-align: top;\n",
              "    }\n",
              "\n",
              "    .dataframe thead th {\n",
              "        text-align: right;\n",
              "    }\n",
              "</style>\n",
              "<table border=\"1\" class=\"dataframe\">\n",
              "  <thead>\n",
              "    <tr style=\"text-align: right;\">\n",
              "      <th></th>\n",
              "      <th>temperature</th>\n",
              "      <th>humidity</th>\n",
              "      <th>luminosity</th>\n",
              "    </tr>\n",
              "    <tr>\n",
              "      <th>date</th>\n",
              "      <th></th>\n",
              "      <th></th>\n",
              "      <th></th>\n",
              "    </tr>\n",
              "  </thead>\n",
              "  <tbody>\n",
              "    <tr>\n",
              "      <th>2018-11-27 18:01:26</th>\n",
              "      <td>21.3</td>\n",
              "      <td>31.4</td>\n",
              "      <td>58.0</td>\n",
              "    </tr>\n",
              "    <tr>\n",
              "      <th>2018-11-27 18:01:28</th>\n",
              "      <td>21.3</td>\n",
              "      <td>31.4</td>\n",
              "      <td>58.0</td>\n",
              "    </tr>\n",
              "    <tr>\n",
              "      <th>2018-11-27 18:01:30</th>\n",
              "      <td>21.3</td>\n",
              "      <td>31.4</td>\n",
              "      <td>57.0</td>\n",
              "    </tr>\n",
              "    <tr>\n",
              "      <th>2018-11-27 18:01:32</th>\n",
              "      <td>21.3</td>\n",
              "      <td>31.4</td>\n",
              "      <td>58.0</td>\n",
              "    </tr>\n",
              "    <tr>\n",
              "      <th>2018-11-27 18:01:34</th>\n",
              "      <td>21.3</td>\n",
              "      <td>31.5</td>\n",
              "      <td>53.0</td>\n",
              "    </tr>\n",
              "    <tr>\n",
              "      <th>2018-11-27 18:01:36</th>\n",
              "      <td>21.3</td>\n",
              "      <td>31.5</td>\n",
              "      <td>50.0</td>\n",
              "    </tr>\n",
              "    <tr>\n",
              "      <th>2018-11-27 18:01:38</th>\n",
              "      <td>NaN</td>\n",
              "      <td>NaN</td>\n",
              "      <td>NaN</td>\n",
              "    </tr>\n",
              "    <tr>\n",
              "      <th>2018-11-27 18:01:40</th>\n",
              "      <td>21.2</td>\n",
              "      <td>31.4</td>\n",
              "      <td>51.0</td>\n",
              "    </tr>\n",
              "    <tr>\n",
              "      <th>2018-11-27 18:01:42</th>\n",
              "      <td>21.3</td>\n",
              "      <td>31.5</td>\n",
              "      <td>50.0</td>\n",
              "    </tr>\n",
              "    <tr>\n",
              "      <th>2018-11-27 18:01:44</th>\n",
              "      <td>21.3</td>\n",
              "      <td>31.6</td>\n",
              "      <td>54.0</td>\n",
              "    </tr>\n",
              "    <tr>\n",
              "      <th>2018-11-27 18:01:46</th>\n",
              "      <td>21.3</td>\n",
              "      <td>31.6</td>\n",
              "      <td>49.0</td>\n",
              "    </tr>\n",
              "    <tr>\n",
              "      <th>2018-11-27 18:01:48</th>\n",
              "      <td>21.3</td>\n",
              "      <td>31.6</td>\n",
              "      <td>51.0</td>\n",
              "    </tr>\n",
              "    <tr>\n",
              "      <th>2018-11-27 18:01:50</th>\n",
              "      <td>21.3</td>\n",
              "      <td>31.6</td>\n",
              "      <td>51.0</td>\n",
              "    </tr>\n",
              "    <tr>\n",
              "      <th>2018-11-27 18:01:52</th>\n",
              "      <td>21.2</td>\n",
              "      <td>31.5</td>\n",
              "      <td>49.0</td>\n",
              "    </tr>\n",
              "    <tr>\n",
              "      <th>2018-11-27 18:01:54</th>\n",
              "      <td>NaN</td>\n",
              "      <td>NaN</td>\n",
              "      <td>NaN</td>\n",
              "    </tr>\n",
              "    <tr>\n",
              "      <th>2018-11-27 18:01:56</th>\n",
              "      <td>21.3</td>\n",
              "      <td>31.6</td>\n",
              "      <td>50.0</td>\n",
              "    </tr>\n",
              "    <tr>\n",
              "      <th>2018-11-27 18:01:58</th>\n",
              "      <td>21.3</td>\n",
              "      <td>31.6</td>\n",
              "      <td>49.0</td>\n",
              "    </tr>\n",
              "    <tr>\n",
              "      <th>2018-11-27 18:02:00</th>\n",
              "      <td>21.2</td>\n",
              "      <td>31.6</td>\n",
              "      <td>49.0</td>\n",
              "    </tr>\n",
              "    <tr>\n",
              "      <th>2018-11-27 18:02:02</th>\n",
              "      <td>21.3</td>\n",
              "      <td>31.8</td>\n",
              "      <td>49.0</td>\n",
              "    </tr>\n",
              "    <tr>\n",
              "      <th>2018-11-27 18:02:04</th>\n",
              "      <td>21.3</td>\n",
              "      <td>32.2</td>\n",
              "      <td>48.0</td>\n",
              "    </tr>\n",
              "    <tr>\n",
              "      <th>2018-11-27 18:02:06</th>\n",
              "      <td>21.3</td>\n",
              "      <td>32.5</td>\n",
              "      <td>48.0</td>\n",
              "    </tr>\n",
              "    <tr>\n",
              "      <th>2018-11-27 18:02:08</th>\n",
              "      <td>21.3</td>\n",
              "      <td>32.8</td>\n",
              "      <td>48.0</td>\n",
              "    </tr>\n",
              "    <tr>\n",
              "      <th>2018-11-27 18:02:10</th>\n",
              "      <td>NaN</td>\n",
              "      <td>NaN</td>\n",
              "      <td>NaN</td>\n",
              "    </tr>\n",
              "    <tr>\n",
              "      <th>2018-11-27 18:02:12</th>\n",
              "      <td>21.3</td>\n",
              "      <td>33.1</td>\n",
              "      <td>49.0</td>\n",
              "    </tr>\n",
              "    <tr>\n",
              "      <th>2018-11-27 18:02:14</th>\n",
              "      <td>21.3</td>\n",
              "      <td>33.5</td>\n",
              "      <td>47.0</td>\n",
              "    </tr>\n",
              "    <tr>\n",
              "      <th>2018-11-27 18:02:16</th>\n",
              "      <td>21.3</td>\n",
              "      <td>33.5</td>\n",
              "      <td>48.0</td>\n",
              "    </tr>\n",
              "    <tr>\n",
              "      <th>2018-11-27 18:02:18</th>\n",
              "      <td>21.3</td>\n",
              "      <td>33.5</td>\n",
              "      <td>48.0</td>\n",
              "    </tr>\n",
              "    <tr>\n",
              "      <th>2018-11-27 18:02:20</th>\n",
              "      <td>21.3</td>\n",
              "      <td>33.4</td>\n",
              "      <td>50.0</td>\n",
              "    </tr>\n",
              "    <tr>\n",
              "      <th>2018-11-27 18:02:22</th>\n",
              "      <td>21.3</td>\n",
              "      <td>33.2</td>\n",
              "      <td>49.0</td>\n",
              "    </tr>\n",
              "    <tr>\n",
              "      <th>2018-11-27 18:02:24</th>\n",
              "      <td>21.3</td>\n",
              "      <td>33.1</td>\n",
              "      <td>47.0</td>\n",
              "    </tr>\n",
              "    <tr>\n",
              "      <th>...</th>\n",
              "      <td>...</td>\n",
              "      <td>...</td>\n",
              "      <td>...</td>\n",
              "    </tr>\n",
              "    <tr>\n",
              "      <th>2018-11-27 18:38:22</th>\n",
              "      <td>21.9</td>\n",
              "      <td>31.7</td>\n",
              "      <td>50.0</td>\n",
              "    </tr>\n",
              "    <tr>\n",
              "      <th>2018-11-27 18:38:24</th>\n",
              "      <td>21.9</td>\n",
              "      <td>31.8</td>\n",
              "      <td>50.0</td>\n",
              "    </tr>\n",
              "    <tr>\n",
              "      <th>2018-11-27 18:38:26</th>\n",
              "      <td>21.9</td>\n",
              "      <td>32.0</td>\n",
              "      <td>50.0</td>\n",
              "    </tr>\n",
              "    <tr>\n",
              "      <th>2018-11-27 18:38:28</th>\n",
              "      <td>NaN</td>\n",
              "      <td>NaN</td>\n",
              "      <td>NaN</td>\n",
              "    </tr>\n",
              "    <tr>\n",
              "      <th>2018-11-27 18:38:30</th>\n",
              "      <td>21.9</td>\n",
              "      <td>32.0</td>\n",
              "      <td>50.0</td>\n",
              "    </tr>\n",
              "    <tr>\n",
              "      <th>2018-11-27 18:38:32</th>\n",
              "      <td>21.9</td>\n",
              "      <td>32.0</td>\n",
              "      <td>55.0</td>\n",
              "    </tr>\n",
              "    <tr>\n",
              "      <th>2018-11-27 18:38:34</th>\n",
              "      <td>21.9</td>\n",
              "      <td>32.0</td>\n",
              "      <td>54.0</td>\n",
              "    </tr>\n",
              "    <tr>\n",
              "      <th>2018-11-27 18:38:36</th>\n",
              "      <td>21.9</td>\n",
              "      <td>32.0</td>\n",
              "      <td>51.0</td>\n",
              "    </tr>\n",
              "    <tr>\n",
              "      <th>2018-11-27 18:38:38</th>\n",
              "      <td>21.9</td>\n",
              "      <td>32.0</td>\n",
              "      <td>48.0</td>\n",
              "    </tr>\n",
              "    <tr>\n",
              "      <th>2018-11-27 18:38:40</th>\n",
              "      <td>21.9</td>\n",
              "      <td>32.1</td>\n",
              "      <td>47.0</td>\n",
              "    </tr>\n",
              "    <tr>\n",
              "      <th>2018-11-27 18:38:42</th>\n",
              "      <td>21.9</td>\n",
              "      <td>32.1</td>\n",
              "      <td>47.0</td>\n",
              "    </tr>\n",
              "    <tr>\n",
              "      <th>2018-11-27 18:38:44</th>\n",
              "      <td>21.9</td>\n",
              "      <td>32.1</td>\n",
              "      <td>47.0</td>\n",
              "    </tr>\n",
              "    <tr>\n",
              "      <th>2018-11-27 18:38:46</th>\n",
              "      <td>NaN</td>\n",
              "      <td>NaN</td>\n",
              "      <td>NaN</td>\n",
              "    </tr>\n",
              "    <tr>\n",
              "      <th>2018-11-27 18:38:48</th>\n",
              "      <td>21.9</td>\n",
              "      <td>32.1</td>\n",
              "      <td>47.0</td>\n",
              "    </tr>\n",
              "    <tr>\n",
              "      <th>2018-11-27 18:38:50</th>\n",
              "      <td>21.9</td>\n",
              "      <td>32.2</td>\n",
              "      <td>47.0</td>\n",
              "    </tr>\n",
              "    <tr>\n",
              "      <th>2018-11-27 18:38:52</th>\n",
              "      <td>21.9</td>\n",
              "      <td>32.3</td>\n",
              "      <td>47.0</td>\n",
              "    </tr>\n",
              "    <tr>\n",
              "      <th>2018-11-27 18:38:54</th>\n",
              "      <td>21.9</td>\n",
              "      <td>32.3</td>\n",
              "      <td>46.0</td>\n",
              "    </tr>\n",
              "    <tr>\n",
              "      <th>2018-11-27 18:38:56</th>\n",
              "      <td>21.9</td>\n",
              "      <td>32.3</td>\n",
              "      <td>47.0</td>\n",
              "    </tr>\n",
              "    <tr>\n",
              "      <th>2018-11-27 18:38:58</th>\n",
              "      <td>21.9</td>\n",
              "      <td>32.3</td>\n",
              "      <td>48.0</td>\n",
              "    </tr>\n",
              "    <tr>\n",
              "      <th>2018-11-27 18:39:00</th>\n",
              "      <td>21.9</td>\n",
              "      <td>32.3</td>\n",
              "      <td>50.0</td>\n",
              "    </tr>\n",
              "    <tr>\n",
              "      <th>2018-11-27 18:39:02</th>\n",
              "      <td>NaN</td>\n",
              "      <td>NaN</td>\n",
              "      <td>NaN</td>\n",
              "    </tr>\n",
              "    <tr>\n",
              "      <th>2018-11-27 18:39:04</th>\n",
              "      <td>21.9</td>\n",
              "      <td>32.2</td>\n",
              "      <td>50.0</td>\n",
              "    </tr>\n",
              "    <tr>\n",
              "      <th>2018-11-27 18:39:06</th>\n",
              "      <td>21.9</td>\n",
              "      <td>32.1</td>\n",
              "      <td>49.0</td>\n",
              "    </tr>\n",
              "    <tr>\n",
              "      <th>2018-11-27 18:39:08</th>\n",
              "      <td>21.9</td>\n",
              "      <td>32.1</td>\n",
              "      <td>49.0</td>\n",
              "    </tr>\n",
              "    <tr>\n",
              "      <th>2018-11-27 18:39:10</th>\n",
              "      <td>21.9</td>\n",
              "      <td>32.1</td>\n",
              "      <td>49.0</td>\n",
              "    </tr>\n",
              "    <tr>\n",
              "      <th>2018-11-27 18:39:12</th>\n",
              "      <td>21.9</td>\n",
              "      <td>32.0</td>\n",
              "      <td>50.0</td>\n",
              "    </tr>\n",
              "    <tr>\n",
              "      <th>2018-11-27 18:39:14</th>\n",
              "      <td>21.9</td>\n",
              "      <td>32.0</td>\n",
              "      <td>50.0</td>\n",
              "    </tr>\n",
              "    <tr>\n",
              "      <th>2018-11-27 18:39:16</th>\n",
              "      <td>21.9</td>\n",
              "      <td>31.9</td>\n",
              "      <td>49.0</td>\n",
              "    </tr>\n",
              "    <tr>\n",
              "      <th>2018-11-27 18:39:18</th>\n",
              "      <td>NaN</td>\n",
              "      <td>NaN</td>\n",
              "      <td>NaN</td>\n",
              "    </tr>\n",
              "    <tr>\n",
              "      <th>2018-11-27 18:39:20</th>\n",
              "      <td>21.9</td>\n",
              "      <td>31.8</td>\n",
              "      <td>49.0</td>\n",
              "    </tr>\n",
              "  </tbody>\n",
              "</table>\n",
              "<p>1138 rows × 3 columns</p>\n",
              "</div>"
            ],
            "text/plain": [
              "                     temperature  humidity  luminosity\n",
              "date                                                  \n",
              "2018-11-27 18:01:26         21.3      31.4        58.0\n",
              "2018-11-27 18:01:28         21.3      31.4        58.0\n",
              "2018-11-27 18:01:30         21.3      31.4        57.0\n",
              "2018-11-27 18:01:32         21.3      31.4        58.0\n",
              "2018-11-27 18:01:34         21.3      31.5        53.0\n",
              "2018-11-27 18:01:36         21.3      31.5        50.0\n",
              "2018-11-27 18:01:38          NaN       NaN         NaN\n",
              "2018-11-27 18:01:40         21.2      31.4        51.0\n",
              "2018-11-27 18:01:42         21.3      31.5        50.0\n",
              "2018-11-27 18:01:44         21.3      31.6        54.0\n",
              "2018-11-27 18:01:46         21.3      31.6        49.0\n",
              "2018-11-27 18:01:48         21.3      31.6        51.0\n",
              "2018-11-27 18:01:50         21.3      31.6        51.0\n",
              "2018-11-27 18:01:52         21.2      31.5        49.0\n",
              "2018-11-27 18:01:54          NaN       NaN         NaN\n",
              "2018-11-27 18:01:56         21.3      31.6        50.0\n",
              "2018-11-27 18:01:58         21.3      31.6        49.0\n",
              "2018-11-27 18:02:00         21.2      31.6        49.0\n",
              "2018-11-27 18:02:02         21.3      31.8        49.0\n",
              "2018-11-27 18:02:04         21.3      32.2        48.0\n",
              "2018-11-27 18:02:06         21.3      32.5        48.0\n",
              "2018-11-27 18:02:08         21.3      32.8        48.0\n",
              "2018-11-27 18:02:10          NaN       NaN         NaN\n",
              "2018-11-27 18:02:12         21.3      33.1        49.0\n",
              "2018-11-27 18:02:14         21.3      33.5        47.0\n",
              "2018-11-27 18:02:16         21.3      33.5        48.0\n",
              "2018-11-27 18:02:18         21.3      33.5        48.0\n",
              "2018-11-27 18:02:20         21.3      33.4        50.0\n",
              "2018-11-27 18:02:22         21.3      33.2        49.0\n",
              "2018-11-27 18:02:24         21.3      33.1        47.0\n",
              "...                          ...       ...         ...\n",
              "2018-11-27 18:38:22         21.9      31.7        50.0\n",
              "2018-11-27 18:38:24         21.9      31.8        50.0\n",
              "2018-11-27 18:38:26         21.9      32.0        50.0\n",
              "2018-11-27 18:38:28          NaN       NaN         NaN\n",
              "2018-11-27 18:38:30         21.9      32.0        50.0\n",
              "2018-11-27 18:38:32         21.9      32.0        55.0\n",
              "2018-11-27 18:38:34         21.9      32.0        54.0\n",
              "2018-11-27 18:38:36         21.9      32.0        51.0\n",
              "2018-11-27 18:38:38         21.9      32.0        48.0\n",
              "2018-11-27 18:38:40         21.9      32.1        47.0\n",
              "2018-11-27 18:38:42         21.9      32.1        47.0\n",
              "2018-11-27 18:38:44         21.9      32.1        47.0\n",
              "2018-11-27 18:38:46          NaN       NaN         NaN\n",
              "2018-11-27 18:38:48         21.9      32.1        47.0\n",
              "2018-11-27 18:38:50         21.9      32.2        47.0\n",
              "2018-11-27 18:38:52         21.9      32.3        47.0\n",
              "2018-11-27 18:38:54         21.9      32.3        46.0\n",
              "2018-11-27 18:38:56         21.9      32.3        47.0\n",
              "2018-11-27 18:38:58         21.9      32.3        48.0\n",
              "2018-11-27 18:39:00         21.9      32.3        50.0\n",
              "2018-11-27 18:39:02          NaN       NaN         NaN\n",
              "2018-11-27 18:39:04         21.9      32.2        50.0\n",
              "2018-11-27 18:39:06         21.9      32.1        49.0\n",
              "2018-11-27 18:39:08         21.9      32.1        49.0\n",
              "2018-11-27 18:39:10         21.9      32.1        49.0\n",
              "2018-11-27 18:39:12         21.9      32.0        50.0\n",
              "2018-11-27 18:39:14         21.9      32.0        50.0\n",
              "2018-11-27 18:39:16         21.9      31.9        49.0\n",
              "2018-11-27 18:39:18          NaN       NaN         NaN\n",
              "2018-11-27 18:39:20         21.9      31.8        49.0\n",
              "\n",
              "[1138 rows x 3 columns]"
            ]
          },
          "metadata": {
            "tags": []
          },
          "execution_count": 58
        }
      ]
    },
    {
      "metadata": {
        "id": "1Na-aiX31Dli",
        "colab_type": "code",
        "outputId": "5b64327c-436a-423e-a187-924ad7e44105",
        "colab": {
          "base_uri": "https://localhost:8080/",
          "height": 421
        }
      },
      "cell_type": "code",
      "source": [
        "#  Plot mean of the iot data per every day\n",
        "iot_s.resample('60S').mean().plot(kind='line', marker='o', ms=10, figsize=(12,6), title='Daily change of temperature, humidity, and luminosity')"
      ],
      "execution_count": 61,
      "outputs": [
        {
          "output_type": "execute_result",
          "data": {
            "text/plain": [
              "<matplotlib.axes._subplots.AxesSubplot at 0x7f0859b45940>"
            ]
          },
          "metadata": {
            "tags": []
          },
          "execution_count": 61
        },
        {
          "output_type": "display_data",
          "data": {
            "image/png": "[encoded data removed]",
            "text/plain": [
              "<matplotlib.figure.Figure at 0x7f085a0efbe0>"
            ]
          },
          "metadata": {
            "tags": []
          }
        }
      ]
    },
    {
      "metadata": {
        "id": "pIY8Yr-HIfyv",
        "colab_type": "code",
        "colab": {
          "base_uri": "https://localhost:8080/",
          "height": 421
        },
        "outputId": "5e018def-d33a-4e77-c086-8d859a6f7c0f"
      },
      "cell_type": "code",
      "source": [
        "#  Plot mean of the iot data per every day\n",
        "iot_s.resample('300S').mean().plot(kind='line', marker='o', ms=10, figsize=(12,6), title='Daily change of temperature, humidity, and luminosity')"
      ],
      "execution_count": 62,
      "outputs": [
        {
          "output_type": "execute_result",
          "data": {
            "text/plain": [
              "<matplotlib.axes._subplots.AxesSubplot at 0x7f0859afe4e0>"
            ]
          },
          "metadata": {
            "tags": []
          },
          "execution_count": 62
        },
        {
          "output_type": "display_data",
          "data": {
            "image/png": "[encoded data removed]",
            "text/plain": [
              "<matplotlib.figure.Figure at 0x7f0859a761d0>"
            ]
          },
          "metadata": {
            "tags": []
          }
        }
      ]
    },
    {
      "metadata": {
        "id": "Gv04dFS2Ifkv",
        "colab_type": "text"
      },
      "cell_type": "markdown",
      "source": [
        ""
      ]
    },
    {
      "metadata": {
        "id": "KZ5IfHOSIjTB",
        "colab_type": "code",
        "colab": {
          "base_uri": "https://localhost:8080/",
          "height": 421
        },
        "outputId": "2ec1d6a8-13e4-4b50-8f17-3680153a238e"
      },
      "cell_type": "code",
      "source": [
        "#  Plot mean of the iot data per every day\n",
        "iot_s.resample('600S').mean().plot(kind='line', marker='o', ms=10, figsize=(12,6), title='Daily change of temperature, humidity, and luminosity')"
      ],
      "execution_count": 63,
      "outputs": [
        {
          "output_type": "execute_result",
          "data": {
            "text/plain": [
              "<matplotlib.axes._subplots.AxesSubplot at 0x7f0859a3e748>"
            ]
          },
          "metadata": {
            "tags": []
          },
          "execution_count": 63
        },
        {
          "output_type": "display_data",
          "data": {
            "image/png": "[encoded data removed]",
            "text/plain": [
              "<matplotlib.figure.Figure at 0x7f0859960b38>"
            ]
          },
          "metadata": {
            "tags": []
          }
        }
      ]
    },
    {
      "metadata": {
        "id": "Y7mGMZEjIjLn",
        "colab_type": "code",
        "colab": {}
      },
      "cell_type": "code",
      "source": [
        ""
      ],
      "execution_count": 0,
      "outputs": []
    },
    {
      "metadata": {
        "id": "zNs608SE3PxR",
        "colab_type": "text"
      },
      "cell_type": "markdown",
      "source": [
        "\n",
        "\n",
        "---\n",
        "\n"
      ]
    },
    {
      "metadata": {
        "id": "bSJOj1mh1Dl0",
        "colab_type": "code",
        "colab": {}
      },
      "cell_type": "code",
      "source": [
        ""
      ],
      "execution_count": 0,
      "outputs": []
    }
  ]
}